{
 "cells": [
  {
   "cell_type": "markdown",
   "metadata": {},
   "source": [
    "### The following code explores the relationship between Major League Baseball salaries, win percentages, and annual attendance.  The data was obtained from http://www.seanlahman.com/baseball-archive/statistics/."
   ]
  },
  {
   "cell_type": "code",
   "execution_count": 1,
   "metadata": {
    "collapsed": true
   },
   "outputs": [],
   "source": [
    "import numpy as np\n",
    "import pandas as pd\n",
    "import matplotlib.pyplot as plt\n",
    "import seaborn as sns\n",
    "%matplotlib inline"
   ]
  },
  {
   "cell_type": "markdown",
   "metadata": {},
   "source": [
    "#### The sample below illustrates the salary data.  Note that it is broken down by individual players."
   ]
  },
  {
   "cell_type": "code",
   "execution_count": 2,
   "metadata": {
    "collapsed": false
   },
   "outputs": [
    {
     "data": {
      "text/html": [
       "<div>\n",
       "<table border=\"1\" class=\"dataframe\">\n",
       "  <thead>\n",
       "    <tr style=\"text-align: right;\">\n",
       "      <th></th>\n",
       "      <th>yearID</th>\n",
       "      <th>teamID</th>\n",
       "      <th>lgID</th>\n",
       "      <th>playerID</th>\n",
       "      <th>salary</th>\n",
       "    </tr>\n",
       "  </thead>\n",
       "  <tbody>\n",
       "    <tr>\n",
       "      <th>0</th>\n",
       "      <td>1985</td>\n",
       "      <td>ATL</td>\n",
       "      <td>NL</td>\n",
       "      <td>barkele01</td>\n",
       "      <td>870000</td>\n",
       "    </tr>\n",
       "    <tr>\n",
       "      <th>1</th>\n",
       "      <td>1985</td>\n",
       "      <td>ATL</td>\n",
       "      <td>NL</td>\n",
       "      <td>bedrost01</td>\n",
       "      <td>550000</td>\n",
       "    </tr>\n",
       "  </tbody>\n",
       "</table>\n",
       "</div>"
      ],
      "text/plain": [
       "   yearID teamID lgID   playerID  salary\n",
       "0    1985    ATL   NL  barkele01  870000\n",
       "1    1985    ATL   NL  bedrost01  550000"
      ]
     },
     "execution_count": 2,
     "metadata": {},
     "output_type": "execute_result"
    }
   ],
   "source": [
    "df_salaries = pd.read_csv('Salaries.csv')\n",
    "df_salaries.head(2)"
   ]
  },
  {
   "cell_type": "markdown",
   "metadata": {},
   "source": [
    "#### The Teams.csv file contains a host of data such as season wins and losses and annual attendance."
   ]
  },
  {
   "cell_type": "code",
   "execution_count": 3,
   "metadata": {
    "collapsed": false
   },
   "outputs": [
    {
     "data": {
      "text/html": [
       "<div>\n",
       "<table border=\"1\" class=\"dataframe\">\n",
       "  <thead>\n",
       "    <tr style=\"text-align: right;\">\n",
       "      <th></th>\n",
       "      <th>yearID</th>\n",
       "      <th>lgID</th>\n",
       "      <th>teamID</th>\n",
       "      <th>franchID</th>\n",
       "      <th>divID</th>\n",
       "      <th>Rank</th>\n",
       "      <th>G</th>\n",
       "      <th>Ghome</th>\n",
       "      <th>W</th>\n",
       "      <th>L</th>\n",
       "      <th>...</th>\n",
       "      <th>DP</th>\n",
       "      <th>FP</th>\n",
       "      <th>name</th>\n",
       "      <th>park</th>\n",
       "      <th>attendance</th>\n",
       "      <th>BPF</th>\n",
       "      <th>PPF</th>\n",
       "      <th>teamIDBR</th>\n",
       "      <th>teamIDlahman45</th>\n",
       "      <th>teamIDretro</th>\n",
       "    </tr>\n",
       "  </thead>\n",
       "  <tbody>\n",
       "    <tr>\n",
       "      <th>1917</th>\n",
       "      <td>1985</td>\n",
       "      <td>NL</td>\n",
       "      <td>ATL</td>\n",
       "      <td>ATL</td>\n",
       "      <td>W</td>\n",
       "      <td>5</td>\n",
       "      <td>162</td>\n",
       "      <td>81.0</td>\n",
       "      <td>66</td>\n",
       "      <td>96</td>\n",
       "      <td>...</td>\n",
       "      <td>197.0</td>\n",
       "      <td>0.976</td>\n",
       "      <td>Atlanta Braves</td>\n",
       "      <td>Atlanta-Fulton County Stadium</td>\n",
       "      <td>1350137.0</td>\n",
       "      <td>105</td>\n",
       "      <td>106</td>\n",
       "      <td>ATL</td>\n",
       "      <td>ATL</td>\n",
       "      <td>ATL</td>\n",
       "    </tr>\n",
       "    <tr>\n",
       "      <th>1918</th>\n",
       "      <td>1985</td>\n",
       "      <td>AL</td>\n",
       "      <td>BAL</td>\n",
       "      <td>BAL</td>\n",
       "      <td>E</td>\n",
       "      <td>4</td>\n",
       "      <td>161</td>\n",
       "      <td>81.0</td>\n",
       "      <td>83</td>\n",
       "      <td>78</td>\n",
       "      <td>...</td>\n",
       "      <td>168.0</td>\n",
       "      <td>0.980</td>\n",
       "      <td>Baltimore Orioles</td>\n",
       "      <td>Memorial Stadium</td>\n",
       "      <td>2132387.0</td>\n",
       "      <td>97</td>\n",
       "      <td>97</td>\n",
       "      <td>BAL</td>\n",
       "      <td>BAL</td>\n",
       "      <td>BAL</td>\n",
       "    </tr>\n",
       "  </tbody>\n",
       "</table>\n",
       "<p>2 rows × 48 columns</p>\n",
       "</div>"
      ],
      "text/plain": [
       "      yearID lgID teamID franchID divID  Rank    G  Ghome   W   L  \\\n",
       "1917    1985   NL    ATL      ATL     W     5  162   81.0  66  96   \n",
       "1918    1985   AL    BAL      BAL     E     4  161   81.0  83  78   \n",
       "\n",
       "         ...          DP     FP               name  \\\n",
       "1917     ...       197.0  0.976     Atlanta Braves   \n",
       "1918     ...       168.0  0.980  Baltimore Orioles   \n",
       "\n",
       "                               park  attendance  BPF  PPF  teamIDBR  \\\n",
       "1917  Atlanta-Fulton County Stadium   1350137.0  105  106       ATL   \n",
       "1918               Memorial Stadium   2132387.0   97   97       BAL   \n",
       "\n",
       "      teamIDlahman45  teamIDretro  \n",
       "1917             ATL          ATL  \n",
       "1918             BAL          BAL  \n",
       "\n",
       "[2 rows x 48 columns]"
      ]
     },
     "execution_count": 3,
     "metadata": {},
     "output_type": "execute_result"
    }
   ],
   "source": [
    "df_teams = pd.read_csv('Teams.csv')\n",
    "df_teams = df_teams[df_teams['yearID'] >= 1985]\n",
    "df_teams.head(2)"
   ]
  },
  {
   "cell_type": "code",
   "execution_count": 4,
   "metadata": {
    "collapsed": false
   },
   "outputs": [
    {
     "data": {
      "text/html": [
       "<div>\n",
       "<table border=\"1\" class=\"dataframe\">\n",
       "  <thead>\n",
       "    <tr style=\"text-align: right;\">\n",
       "      <th></th>\n",
       "      <th>yearID</th>\n",
       "      <th>lgID</th>\n",
       "      <th>teamID</th>\n",
       "      <th>franchID</th>\n",
       "      <th>divID</th>\n",
       "      <th>Rank</th>\n",
       "      <th>G</th>\n",
       "      <th>Ghome</th>\n",
       "      <th>W</th>\n",
       "      <th>L</th>\n",
       "      <th>...</th>\n",
       "      <th>FP</th>\n",
       "      <th>name</th>\n",
       "      <th>park</th>\n",
       "      <th>attendance</th>\n",
       "      <th>BPF</th>\n",
       "      <th>PPF</th>\n",
       "      <th>teamIDBR</th>\n",
       "      <th>teamIDlahman45</th>\n",
       "      <th>teamIDretro</th>\n",
       "      <th>win_pct</th>\n",
       "    </tr>\n",
       "  </thead>\n",
       "  <tbody>\n",
       "    <tr>\n",
       "      <th>1917</th>\n",
       "      <td>1985</td>\n",
       "      <td>NL</td>\n",
       "      <td>ATL</td>\n",
       "      <td>ATL</td>\n",
       "      <td>W</td>\n",
       "      <td>5</td>\n",
       "      <td>162</td>\n",
       "      <td>81.0</td>\n",
       "      <td>66</td>\n",
       "      <td>96</td>\n",
       "      <td>...</td>\n",
       "      <td>0.976</td>\n",
       "      <td>Atlanta Braves</td>\n",
       "      <td>Atlanta-Fulton County Stadium</td>\n",
       "      <td>1350137.0</td>\n",
       "      <td>105</td>\n",
       "      <td>106</td>\n",
       "      <td>ATL</td>\n",
       "      <td>ATL</td>\n",
       "      <td>ATL</td>\n",
       "      <td>0.407407</td>\n",
       "    </tr>\n",
       "    <tr>\n",
       "      <th>1918</th>\n",
       "      <td>1985</td>\n",
       "      <td>AL</td>\n",
       "      <td>BAL</td>\n",
       "      <td>BAL</td>\n",
       "      <td>E</td>\n",
       "      <td>4</td>\n",
       "      <td>161</td>\n",
       "      <td>81.0</td>\n",
       "      <td>83</td>\n",
       "      <td>78</td>\n",
       "      <td>...</td>\n",
       "      <td>0.980</td>\n",
       "      <td>Baltimore Orioles</td>\n",
       "      <td>Memorial Stadium</td>\n",
       "      <td>2132387.0</td>\n",
       "      <td>97</td>\n",
       "      <td>97</td>\n",
       "      <td>BAL</td>\n",
       "      <td>BAL</td>\n",
       "      <td>BAL</td>\n",
       "      <td>0.515528</td>\n",
       "    </tr>\n",
       "  </tbody>\n",
       "</table>\n",
       "<p>2 rows × 49 columns</p>\n",
       "</div>"
      ],
      "text/plain": [
       "      yearID lgID teamID franchID divID  Rank    G  Ghome   W   L    ...     \\\n",
       "1917    1985   NL    ATL      ATL     W     5  162   81.0  66  96    ...      \n",
       "1918    1985   AL    BAL      BAL     E     4  161   81.0  83  78    ...      \n",
       "\n",
       "         FP               name                           park attendance  BPF  \\\n",
       "1917  0.976     Atlanta Braves  Atlanta-Fulton County Stadium  1350137.0  105   \n",
       "1918  0.980  Baltimore Orioles               Memorial Stadium  2132387.0   97   \n",
       "\n",
       "      PPF  teamIDBR  teamIDlahman45  teamIDretro   win_pct  \n",
       "1917  106       ATL             ATL          ATL  0.407407  \n",
       "1918   97       BAL             BAL          BAL  0.515528  \n",
       "\n",
       "[2 rows x 49 columns]"
      ]
     },
     "execution_count": 4,
     "metadata": {},
     "output_type": "execute_result"
    }
   ],
   "source": [
    "# A win percentage (win_pct) column was added to the data.\n",
    "df_teams['win_pct'] = df_teams['W']/(df_teams['W'] + df_teams['L'])\n",
    "df_teams.head(2)"
   ]
  },
  {
   "cell_type": "markdown",
   "metadata": {},
   "source": [
    "#### The following dictionary is used to update old team names (keys) to the most recent team names (values)."
   ]
  },
  {
   "cell_type": "code",
   "execution_count": 5,
   "metadata": {
    "collapsed": true
   },
   "outputs": [],
   "source": [
    "updated_teams = {'ANA': 'LAA', 'CAL': 'LAA', 'CHC': 'CHN', 'CHW': 'CHA', 'KCR': 'KCA', 'LAD': 'LAN', \n",
    "                 'ML4': 'MIL', 'MON': 'WAS', 'NYM': 'NYN', 'NYY': 'NYA', 'SDP': 'SDN', 'SFG': 'SFN', \n",
    "                 'STL': 'SLN', 'TBR': 'TBA', 'WSN': 'WAS'}"
   ]
  },
  {
   "cell_type": "code",
   "execution_count": 6,
   "metadata": {
    "collapsed": false
   },
   "outputs": [],
   "source": [
    "# The teamIDs are updated with the most recent team names in both the df_salaries and df_teams DataFrames.\n",
    "for team, new_team in updated_teams.items():\n",
    "    df_salaries['teamID'] = df_salaries['teamID'].replace(team, new_team)\n",
    "    df_teams['teamID'] = df_teams['teamID'].replace(team, new_team)"
   ]
  },
  {
   "cell_type": "code",
   "execution_count": 7,
   "metadata": {
    "collapsed": false
   },
   "outputs": [
    {
     "name": "stdout",
     "output_type": "stream",
     "text": [
      "Enter the first year of data to calculate (no earlier than 1985): 2000\n",
      "Enter the last year of data to calculate: 2016\n"
     ]
    }
   ],
   "source": [
    "start = int(input('Enter the first year of data to calculate (no earlier than 1985): '))\n",
    "end = int(input('Enter the last year of data to calculate: '))"
   ]
  },
  {
   "cell_type": "code",
   "execution_count": 8,
   "metadata": {
    "collapsed": false
   },
   "outputs": [],
   "source": [
    "# We now slice the DataFrames to include only data in the year range we're interested in.\n",
    "df_salaries_range = df_salaries[(df_salaries['yearID'] >= start) & (df_salaries['yearID'] <= end)]\n",
    "df_teams_range = df_teams[(df_teams['yearID'] >= start) & (df_teams['yearID'] <= end)]"
   ]
  },
  {
   "cell_type": "code",
   "execution_count": 9,
   "metadata": {
    "collapsed": false
   },
   "outputs": [],
   "source": [
    "# Mean average annual player salaries grouped by team for the chosen time frame.\n",
    "salaries = df_salaries_range.groupby(['teamID'])['salary'].mean()"
   ]
  },
  {
   "cell_type": "code",
   "execution_count": 10,
   "metadata": {
    "collapsed": false
   },
   "outputs": [],
   "source": [
    "# Mean average annual win percentage grouped by team for the chosen time frame.\n",
    "win_pct = df_teams_range.groupby(['teamID'])['win_pct'].mean()"
   ]
  },
  {
   "cell_type": "code",
   "execution_count": 11,
   "metadata": {
    "collapsed": true
   },
   "outputs": [],
   "source": [
    "# Mean average annual attendance grouped by team for the chosen time frame.\n",
    "attendance = df_teams_range.groupby(['teamID'])['attendance'].mean() "
   ]
  },
  {
   "cell_type": "code",
   "execution_count": 12,
   "metadata": {
    "collapsed": false
   },
   "outputs": [
    {
     "data": {
      "text/plain": [
       "<matplotlib.collections.PathCollection at 0x104468748>"
      ]
     },
     "execution_count": 12,
     "metadata": {},
     "output_type": "execute_result"
    },
    {
     "data": {
      "image/png": "[encoded data removed]",
      "text/plain": [
       "<matplotlib.figure.Figure at 0x10ea708d0>"
      ]
     },
     "metadata": {},
     "output_type": "display_data"
    }
   ],
   "source": [
    "# A scatter plot of the relationship between mean player salary and win percentage.\n",
    "fig=plt.figure(figsize=(10, 6), dpi= 80, facecolor='w', edgecolor='k')\n",
    "plt.title('MLB Mean Player Salary vs Win Percentage for Years {}-{}'.format(start, end))\n",
    "plt.xlabel('Mean Player Salary')\n",
    "plt.ylabel('Win Percentage')\n",
    "plt.scatter(salaries, win_pct)"
   ]
  },
  {
   "cell_type": "code",
   "execution_count": 13,
   "metadata": {
    "collapsed": false
   },
   "outputs": [
    {
     "data": {
      "text/plain": [
       "<matplotlib.collections.PathCollection at 0x112b99400>"
      ]
     },
     "execution_count": 13,
     "metadata": {},
     "output_type": "execute_result"
    },
    {
     "data": {
      "image/png": "[encoded data removed]",
      "text/plain": [
       "<matplotlib.figure.Figure at 0x112b27c50>"
      ]
     },
     "metadata": {},
     "output_type": "display_data"
    }
   ],
   "source": [
    "# A scatter plot of the relationship between mean player salary and annual attendance.\n",
    "fig=plt.figure(figsize=(10, 6), dpi= 80, facecolor='w', edgecolor='k')\n",
    "plt.title('MLB Mean Player Salary vs Annual Attendance for Years {}-{}'.format(start, end))\n",
    "plt.xlabel('Mean Player Salary')\n",
    "plt.ylabel('Annual Attendance')\n",
    "plt.scatter(salaries, attendance)"
   ]
  },
  {
   "cell_type": "markdown",
   "metadata": {},
   "source": [
    "#### For reference, the following represent how to interpret correlation coefficients: \n",
    "* 0, no linear relationship\n",
    "* 0.3, weak positive linear relationship\n",
    "* 0.5, moderate positive relationship\n",
    "* 0.7, strong positive relationship\n",
    "* 1.0, perfect linear relationship"
   ]
  },
  {
   "cell_type": "code",
   "execution_count": 14,
   "metadata": {
    "collapsed": false
   },
   "outputs": [
    {
     "name": "stdout",
     "output_type": "stream",
     "text": [
      "The Pearson correlation coefficient between average player salary and win percentage is: 0.697\n"
     ]
    }
   ],
   "source": [
    "pearsons_coeff = str(np.corrcoef(salaries, win_pct)[0,1])[:5]\n",
    "print('The Pearson correlation coefficient between average player salary and win percentage is:', pearsons_coeff)"
   ]
  },
  {
   "cell_type": "code",
   "execution_count": 15,
   "metadata": {
    "collapsed": false
   },
   "outputs": [
    {
     "name": "stdout",
     "output_type": "stream",
     "text": [
      "The Pearson correlation coefficient between average player salary and annual attendance is: 0.837\n"
     ]
    }
   ],
   "source": [
    "pearsons_coeff = str(np.corrcoef(salaries, attendance)[0,1])[:5]\n",
    "print('The Pearson correlation coefficient between average player salary and annual attendance is:', pearsons_coeff)"
   ]
  }
 ],
 "metadata": {
  "kernelspec": {
   "display_name": "Python 3",
   "language": "python",
   "name": "python3"
  },
  "language_info": {
   "codemirror_mode": {
    "name": "ipython",
    "version": 3
   },
   "file_extension": ".py",
   "mimetype": "text/x-python",
   "name": "python",
   "nbconvert_exporter": "python",
   "pygments_lexer": "ipython3",
   "version": "3.6.0"
  }
 },
 "nbformat": 4,
 "nbformat_minor": 2
}
